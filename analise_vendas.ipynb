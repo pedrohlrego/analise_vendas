{
 "cells": [
  {
   "cell_type": "markdown",
   "metadata": {},
   "source": [
    "# Análise dos dados consolidados"
   ]
  },
  {
   "cell_type": "code",
   "execution_count": 3,
   "metadata": {},
   "outputs": [],
   "source": [
    "import pandas as pd\n",
    "import seaborn as sns\n",
    "import matplotlib.pyplot as plt"
   ]
  },
  {
   "cell_type": "markdown",
   "metadata": {},
   "source": [
    "#### carregando os dados da planilha consolidada "
   ]
  },
  {
   "cell_type": "code",
   "execution_count": 4,
   "metadata": {},
   "outputs": [],
   "source": [
    "df = pd.read_excel('Report-consolidado.xlsx')"
   ]
  },
  {
   "cell_type": "code",
   "execution_count": 5,
   "metadata": {},
   "outputs": [
    {
     "data": {
      "text/html": [
       "<div>\n",
       "<style scoped>\n",
       "    .dataframe tbody tr th:only-of-type {\n",
       "        vertical-align: middle;\n",
       "    }\n",
       "\n",
       "    .dataframe tbody tr th {\n",
       "        vertical-align: top;\n",
       "    }\n",
       "\n",
       "    .dataframe thead th {\n",
       "        text-align: right;\n",
       "    }\n",
       "</style>\n",
       "<table border=\"1\" class=\"dataframe\">\n",
       "  <thead>\n",
       "    <tr style=\"text-align: right;\">\n",
       "      <th></th>\n",
       "      <th>Segmento</th>\n",
       "      <th>País</th>\n",
       "      <th>Produto</th>\n",
       "      <th>Qtde de Unidades Vendidas</th>\n",
       "      <th>Preço Unitário</th>\n",
       "      <th>Valor Total</th>\n",
       "      <th>Desconto</th>\n",
       "      <th>Valor Total c/ Desconto</th>\n",
       "      <th>Custo Total</th>\n",
       "      <th>Lucro</th>\n",
       "      <th>Data</th>\n",
       "      <th>Mês</th>\n",
       "      <th>Ano</th>\n",
       "    </tr>\n",
       "  </thead>\n",
       "  <tbody>\n",
       "    <tr>\n",
       "      <th>0</th>\n",
       "      <td>Governo</td>\n",
       "      <td>Alemanha</td>\n",
       "      <td>Produto 1</td>\n",
       "      <td>1321.0</td>\n",
       "      <td>20</td>\n",
       "      <td>26420.0</td>\n",
       "      <td>0.0</td>\n",
       "      <td>26420.0</td>\n",
       "      <td>14531.0</td>\n",
       "      <td>11889.0</td>\n",
       "      <td>2019-01-01</td>\n",
       "      <td>Janeiro</td>\n",
       "      <td>2019</td>\n",
       "    </tr>\n",
       "    <tr>\n",
       "      <th>1</th>\n",
       "      <td>Governo</td>\n",
       "      <td>Alemanha</td>\n",
       "      <td>Produto 1</td>\n",
       "      <td>1513.0</td>\n",
       "      <td>350</td>\n",
       "      <td>529550.0</td>\n",
       "      <td>0.0</td>\n",
       "      <td>529550.0</td>\n",
       "      <td>432718.0</td>\n",
       "      <td>96832.0</td>\n",
       "      <td>2019-12-01</td>\n",
       "      <td>Dezembro</td>\n",
       "      <td>2019</td>\n",
       "    </tr>\n",
       "    <tr>\n",
       "      <th>2</th>\n",
       "      <td>Governo</td>\n",
       "      <td>Alemanha</td>\n",
       "      <td>Produto 2</td>\n",
       "      <td>2146.0</td>\n",
       "      <td>7</td>\n",
       "      <td>15022.0</td>\n",
       "      <td>0.0</td>\n",
       "      <td>15022.0</td>\n",
       "      <td>10730.0</td>\n",
       "      <td>4292.0</td>\n",
       "      <td>2019-09-01</td>\n",
       "      <td>Setembro</td>\n",
       "      <td>2019</td>\n",
       "    </tr>\n",
       "    <tr>\n",
       "      <th>3</th>\n",
       "      <td>Governo</td>\n",
       "      <td>Alemanha</td>\n",
       "      <td>Produto 3</td>\n",
       "      <td>1006.0</td>\n",
       "      <td>350</td>\n",
       "      <td>352100.0</td>\n",
       "      <td>0.0</td>\n",
       "      <td>352100.0</td>\n",
       "      <td>261560.0</td>\n",
       "      <td>90540.0</td>\n",
       "      <td>2019-06-01</td>\n",
       "      <td>Junho</td>\n",
       "      <td>2019</td>\n",
       "    </tr>\n",
       "    <tr>\n",
       "      <th>4</th>\n",
       "      <td>Governo</td>\n",
       "      <td>Alemanha</td>\n",
       "      <td>Produto 3</td>\n",
       "      <td>1513.0</td>\n",
       "      <td>350</td>\n",
       "      <td>529550.0</td>\n",
       "      <td>0.0</td>\n",
       "      <td>529550.0</td>\n",
       "      <td>393380.0</td>\n",
       "      <td>136170.0</td>\n",
       "      <td>2019-12-01</td>\n",
       "      <td>Dezembro</td>\n",
       "      <td>2019</td>\n",
       "    </tr>\n",
       "  </tbody>\n",
       "</table>\n",
       "</div>"
      ],
      "text/plain": [
       "  Segmento      País    Produto  Qtde de Unidades Vendidas  Preço Unitário  \\\n",
       "0  Governo  Alemanha  Produto 1                     1321.0              20   \n",
       "1  Governo  Alemanha  Produto 1                     1513.0             350   \n",
       "2  Governo  Alemanha  Produto 2                     2146.0               7   \n",
       "3  Governo  Alemanha  Produto 3                     1006.0             350   \n",
       "4  Governo  Alemanha  Produto 3                     1513.0             350   \n",
       "\n",
       "   Valor Total  Desconto  Valor Total c/ Desconto  Custo Total     Lucro  \\\n",
       "0      26420.0       0.0                  26420.0      14531.0   11889.0   \n",
       "1     529550.0       0.0                 529550.0     432718.0   96832.0   \n",
       "2      15022.0       0.0                  15022.0      10730.0    4292.0   \n",
       "3     352100.0       0.0                 352100.0     261560.0   90540.0   \n",
       "4     529550.0       0.0                 529550.0     393380.0  136170.0   \n",
       "\n",
       "        Data       Mês   Ano  \n",
       "0 2019-01-01   Janeiro  2019  \n",
       "1 2019-12-01  Dezembro  2019  \n",
       "2 2019-09-01  Setembro  2019  \n",
       "3 2019-06-01     Junho  2019  \n",
       "4 2019-12-01  Dezembro  2019  "
      ]
     },
     "execution_count": 5,
     "metadata": {},
     "output_type": "execute_result"
    }
   ],
   "source": [
    "df.head()"
   ]
  },
  {
   "cell_type": "code",
   "execution_count": 6,
   "metadata": {},
   "outputs": [
    {
     "data": {
      "text/html": [
       "<div>\n",
       "<style scoped>\n",
       "    .dataframe tbody tr th:only-of-type {\n",
       "        vertical-align: middle;\n",
       "    }\n",
       "\n",
       "    .dataframe tbody tr th {\n",
       "        vertical-align: top;\n",
       "    }\n",
       "\n",
       "    .dataframe thead th {\n",
       "        text-align: right;\n",
       "    }\n",
       "</style>\n",
       "<table border=\"1\" class=\"dataframe\">\n",
       "  <thead>\n",
       "    <tr style=\"text-align: right;\">\n",
       "      <th></th>\n",
       "      <th>Segmento</th>\n",
       "      <th>País</th>\n",
       "      <th>Produto</th>\n",
       "      <th>Qtde de Unidades Vendidas</th>\n",
       "      <th>Preço Unitário</th>\n",
       "      <th>Valor Total</th>\n",
       "      <th>Desconto</th>\n",
       "      <th>Valor Total c/ Desconto</th>\n",
       "      <th>Custo Total</th>\n",
       "      <th>Lucro</th>\n",
       "      <th>Data</th>\n",
       "      <th>Mês</th>\n",
       "      <th>Ano</th>\n",
       "    </tr>\n",
       "  </thead>\n",
       "  <tbody>\n",
       "    <tr>\n",
       "      <th>695</th>\n",
       "      <td>Vendas online</td>\n",
       "      <td>França</td>\n",
       "      <td>Produto 3</td>\n",
       "      <td>2425.5</td>\n",
       "      <td>12</td>\n",
       "      <td>29106.0</td>\n",
       "      <td>3201.66</td>\n",
       "      <td>25904.34</td>\n",
       "      <td>7276.5</td>\n",
       "      <td>18627.84</td>\n",
       "      <td>2019-07-01</td>\n",
       "      <td>Julho</td>\n",
       "      <td>2019</td>\n",
       "    </tr>\n",
       "    <tr>\n",
       "      <th>696</th>\n",
       "      <td>Vendas online</td>\n",
       "      <td>França</td>\n",
       "      <td>Produto 5</td>\n",
       "      <td>1734.0</td>\n",
       "      <td>12</td>\n",
       "      <td>20808.0</td>\n",
       "      <td>2288.88</td>\n",
       "      <td>18519.12</td>\n",
       "      <td>5202.0</td>\n",
       "      <td>13317.12</td>\n",
       "      <td>2019-01-01</td>\n",
       "      <td>Janeiro</td>\n",
       "      <td>2019</td>\n",
       "    </tr>\n",
       "    <tr>\n",
       "      <th>697</th>\n",
       "      <td>Vendas online</td>\n",
       "      <td>França</td>\n",
       "      <td>Produto 3</td>\n",
       "      <td>1393.0</td>\n",
       "      <td>12</td>\n",
       "      <td>16716.0</td>\n",
       "      <td>2340.24</td>\n",
       "      <td>14375.76</td>\n",
       "      <td>4179.0</td>\n",
       "      <td>10196.76</td>\n",
       "      <td>2019-10-01</td>\n",
       "      <td>Outubro</td>\n",
       "      <td>2019</td>\n",
       "    </tr>\n",
       "    <tr>\n",
       "      <th>698</th>\n",
       "      <td>Vendas online</td>\n",
       "      <td>França</td>\n",
       "      <td>Produto 6</td>\n",
       "      <td>1393.0</td>\n",
       "      <td>12</td>\n",
       "      <td>16716.0</td>\n",
       "      <td>2340.24</td>\n",
       "      <td>14375.76</td>\n",
       "      <td>4179.0</td>\n",
       "      <td>10196.76</td>\n",
       "      <td>2019-10-01</td>\n",
       "      <td>Outubro</td>\n",
       "      <td>2019</td>\n",
       "    </tr>\n",
       "    <tr>\n",
       "      <th>699</th>\n",
       "      <td>Vendas online</td>\n",
       "      <td>França</td>\n",
       "      <td>Produto 6</td>\n",
       "      <td>2475.0</td>\n",
       "      <td>12</td>\n",
       "      <td>29700.0</td>\n",
       "      <td>4158.00</td>\n",
       "      <td>25542.00</td>\n",
       "      <td>7425.0</td>\n",
       "      <td>18117.00</td>\n",
       "      <td>2019-08-01</td>\n",
       "      <td>Agosto</td>\n",
       "      <td>2019</td>\n",
       "    </tr>\n",
       "  </tbody>\n",
       "</table>\n",
       "</div>"
      ],
      "text/plain": [
       "          Segmento    País    Produto  Qtde de Unidades Vendidas  \\\n",
       "695  Vendas online  França  Produto 3                     2425.5   \n",
       "696  Vendas online  França  Produto 5                     1734.0   \n",
       "697  Vendas online  França  Produto 3                     1393.0   \n",
       "698  Vendas online  França  Produto 6                     1393.0   \n",
       "699  Vendas online  França  Produto 6                     2475.0   \n",
       "\n",
       "     Preço Unitário  Valor Total  Desconto  Valor Total c/ Desconto  \\\n",
       "695              12      29106.0   3201.66                 25904.34   \n",
       "696              12      20808.0   2288.88                 18519.12   \n",
       "697              12      16716.0   2340.24                 14375.76   \n",
       "698              12      16716.0   2340.24                 14375.76   \n",
       "699              12      29700.0   4158.00                 25542.00   \n",
       "\n",
       "     Custo Total     Lucro       Data      Mês   Ano  \n",
       "695       7276.5  18627.84 2019-07-01    Julho  2019  \n",
       "696       5202.0  13317.12 2019-01-01  Janeiro  2019  \n",
       "697       4179.0  10196.76 2019-10-01  Outubro  2019  \n",
       "698       4179.0  10196.76 2019-10-01  Outubro  2019  \n",
       "699       7425.0  18117.00 2019-08-01   Agosto  2019  "
      ]
     },
     "execution_count": 6,
     "metadata": {},
     "output_type": "execute_result"
    }
   ],
   "source": [
    "df.tail()"
   ]
  },
  {
   "cell_type": "markdown",
   "metadata": {},
   "source": [
    "#### Análise Exploratória"
   ]
  },
  {
   "cell_type": "code",
   "execution_count": 7,
   "metadata": {},
   "outputs": [
    {
     "name": "stdout",
     "output_type": "stream",
     "text": [
      "<class 'pandas.core.frame.DataFrame'>\n",
      "RangeIndex: 700 entries, 0 to 699\n",
      "Data columns (total 13 columns):\n",
      " #   Column                     Non-Null Count  Dtype         \n",
      "---  ------                     --------------  -----         \n",
      " 0   Segmento                   700 non-null    object        \n",
      " 1   País                       700 non-null    object        \n",
      " 2   Produto                    700 non-null    object        \n",
      " 3   Qtde de Unidades Vendidas  700 non-null    float64       \n",
      " 4   Preço Unitário             700 non-null    int64         \n",
      " 5   Valor Total                700 non-null    float64       \n",
      " 6   Desconto                   700 non-null    float64       \n",
      " 7   Valor Total c/ Desconto    700 non-null    float64       \n",
      " 8   Custo Total                700 non-null    float64       \n",
      " 9   Lucro                      700 non-null    float64       \n",
      " 10  Data                       700 non-null    datetime64[ns]\n",
      " 11  Mês                        700 non-null    object        \n",
      " 12  Ano                        700 non-null    int64         \n",
      "dtypes: datetime64[ns](1), float64(6), int64(2), object(4)\n",
      "memory usage: 71.2+ KB\n"
     ]
    }
   ],
   "source": [
    "df.info()"
   ]
  },
  {
   "cell_type": "code",
   "execution_count": 8,
   "metadata": {},
   "outputs": [
    {
     "data": {
      "text/plain": [
       "Index(['Segmento', 'País', 'Produto', 'Qtde de Unidades Vendidas',\n",
       "       'Preço Unitário', 'Valor Total', 'Desconto', 'Valor Total c/ Desconto',\n",
       "       'Custo Total', 'Lucro', 'Data', 'Mês', 'Ano'],\n",
       "      dtype='object')"
      ]
     },
     "execution_count": 8,
     "metadata": {},
     "output_type": "execute_result"
    }
   ],
   "source": [
    "df.columns"
   ]
  },
  {
   "cell_type": "code",
   "execution_count": 9,
   "metadata": {},
   "outputs": [
    {
     "data": {
      "text/plain": [
       "(700, 13)"
      ]
     },
     "execution_count": 9,
     "metadata": {},
     "output_type": "execute_result"
    }
   ],
   "source": [
    "df.shape"
   ]
  },
  {
   "cell_type": "code",
   "execution_count": 10,
   "metadata": {},
   "outputs": [],
   "source": [
    "colunas = ['segmento', 'pais', 'produto', 'unidades_vendidas', 'preco_unitario', 'valor_total', 'desconto',\n",
    "           'valor_total_desconto', 'custo_total', 'lucro', 'data', 'mes', 'ano' ]\n",
    "df.columns = colunas"
   ]
  },
  {
   "cell_type": "code",
   "execution_count": 11,
   "metadata": {},
   "outputs": [
    {
     "data": {
      "text/html": [
       "<div>\n",
       "<style scoped>\n",
       "    .dataframe tbody tr th:only-of-type {\n",
       "        vertical-align: middle;\n",
       "    }\n",
       "\n",
       "    .dataframe tbody tr th {\n",
       "        vertical-align: top;\n",
       "    }\n",
       "\n",
       "    .dataframe thead th {\n",
       "        text-align: right;\n",
       "    }\n",
       "</style>\n",
       "<table border=\"1\" class=\"dataframe\">\n",
       "  <thead>\n",
       "    <tr style=\"text-align: right;\">\n",
       "      <th></th>\n",
       "      <th>segmento</th>\n",
       "      <th>pais</th>\n",
       "      <th>produto</th>\n",
       "      <th>unidades_vendidas</th>\n",
       "      <th>preco_unitario</th>\n",
       "      <th>valor_total</th>\n",
       "      <th>desconto</th>\n",
       "      <th>valor_total_desconto</th>\n",
       "      <th>custo_total</th>\n",
       "      <th>lucro</th>\n",
       "      <th>data</th>\n",
       "      <th>mes</th>\n",
       "      <th>ano</th>\n",
       "    </tr>\n",
       "  </thead>\n",
       "  <tbody>\n",
       "    <tr>\n",
       "      <th>0</th>\n",
       "      <td>Governo</td>\n",
       "      <td>Alemanha</td>\n",
       "      <td>Produto 1</td>\n",
       "      <td>1321.0</td>\n",
       "      <td>20</td>\n",
       "      <td>26420.0</td>\n",
       "      <td>0.0</td>\n",
       "      <td>26420.0</td>\n",
       "      <td>14531.0</td>\n",
       "      <td>11889.0</td>\n",
       "      <td>2019-01-01</td>\n",
       "      <td>Janeiro</td>\n",
       "      <td>2019</td>\n",
       "    </tr>\n",
       "    <tr>\n",
       "      <th>1</th>\n",
       "      <td>Governo</td>\n",
       "      <td>Alemanha</td>\n",
       "      <td>Produto 1</td>\n",
       "      <td>1513.0</td>\n",
       "      <td>350</td>\n",
       "      <td>529550.0</td>\n",
       "      <td>0.0</td>\n",
       "      <td>529550.0</td>\n",
       "      <td>432718.0</td>\n",
       "      <td>96832.0</td>\n",
       "      <td>2019-12-01</td>\n",
       "      <td>Dezembro</td>\n",
       "      <td>2019</td>\n",
       "    </tr>\n",
       "    <tr>\n",
       "      <th>2</th>\n",
       "      <td>Governo</td>\n",
       "      <td>Alemanha</td>\n",
       "      <td>Produto 2</td>\n",
       "      <td>2146.0</td>\n",
       "      <td>7</td>\n",
       "      <td>15022.0</td>\n",
       "      <td>0.0</td>\n",
       "      <td>15022.0</td>\n",
       "      <td>10730.0</td>\n",
       "      <td>4292.0</td>\n",
       "      <td>2019-09-01</td>\n",
       "      <td>Setembro</td>\n",
       "      <td>2019</td>\n",
       "    </tr>\n",
       "    <tr>\n",
       "      <th>3</th>\n",
       "      <td>Governo</td>\n",
       "      <td>Alemanha</td>\n",
       "      <td>Produto 3</td>\n",
       "      <td>1006.0</td>\n",
       "      <td>350</td>\n",
       "      <td>352100.0</td>\n",
       "      <td>0.0</td>\n",
       "      <td>352100.0</td>\n",
       "      <td>261560.0</td>\n",
       "      <td>90540.0</td>\n",
       "      <td>2019-06-01</td>\n",
       "      <td>Junho</td>\n",
       "      <td>2019</td>\n",
       "    </tr>\n",
       "    <tr>\n",
       "      <th>4</th>\n",
       "      <td>Governo</td>\n",
       "      <td>Alemanha</td>\n",
       "      <td>Produto 3</td>\n",
       "      <td>1513.0</td>\n",
       "      <td>350</td>\n",
       "      <td>529550.0</td>\n",
       "      <td>0.0</td>\n",
       "      <td>529550.0</td>\n",
       "      <td>393380.0</td>\n",
       "      <td>136170.0</td>\n",
       "      <td>2019-12-01</td>\n",
       "      <td>Dezembro</td>\n",
       "      <td>2019</td>\n",
       "    </tr>\n",
       "  </tbody>\n",
       "</table>\n",
       "</div>"
      ],
      "text/plain": [
       "  segmento      pais    produto  unidades_vendidas  preco_unitario  \\\n",
       "0  Governo  Alemanha  Produto 1             1321.0              20   \n",
       "1  Governo  Alemanha  Produto 1             1513.0             350   \n",
       "2  Governo  Alemanha  Produto 2             2146.0               7   \n",
       "3  Governo  Alemanha  Produto 3             1006.0             350   \n",
       "4  Governo  Alemanha  Produto 3             1513.0             350   \n",
       "\n",
       "   valor_total  desconto  valor_total_desconto  custo_total     lucro  \\\n",
       "0      26420.0       0.0               26420.0      14531.0   11889.0   \n",
       "1     529550.0       0.0              529550.0     432718.0   96832.0   \n",
       "2      15022.0       0.0               15022.0      10730.0    4292.0   \n",
       "3     352100.0       0.0              352100.0     261560.0   90540.0   \n",
       "4     529550.0       0.0              529550.0     393380.0  136170.0   \n",
       "\n",
       "        data       mes   ano  \n",
       "0 2019-01-01   Janeiro  2019  \n",
       "1 2019-12-01  Dezembro  2019  \n",
       "2 2019-09-01  Setembro  2019  \n",
       "3 2019-06-01     Junho  2019  \n",
       "4 2019-12-01  Dezembro  2019  "
      ]
     },
     "execution_count": 11,
     "metadata": {},
     "output_type": "execute_result"
    }
   ],
   "source": [
    "df.head()"
   ]
  },
  {
   "cell_type": "code",
   "execution_count": 12,
   "metadata": {},
   "outputs": [
    {
     "data": {
      "text/plain": [
       "0            Governo\n",
       "1            Governo\n",
       "2            Governo\n",
       "3            Governo\n",
       "4            Governo\n",
       "           ...      \n",
       "695    Vendas online\n",
       "696    Vendas online\n",
       "697    Vendas online\n",
       "698    Vendas online\n",
       "699    Vendas online\n",
       "Name: segmento, Length: 700, dtype: object"
      ]
     },
     "execution_count": 12,
     "metadata": {},
     "output_type": "execute_result"
    }
   ],
   "source": [
    "df.segmento"
   ]
  },
  {
   "cell_type": "code",
   "execution_count": 13,
   "metadata": {},
   "outputs": [
    {
     "data": {
      "text/plain": [
       "0       26420.00\n",
       "1      529550.00\n",
       "2       15022.00\n",
       "3      352100.00\n",
       "4      529550.00\n",
       "         ...    \n",
       "695     25904.34\n",
       "696     18519.12\n",
       "697     14375.76\n",
       "698     14375.76\n",
       "699     25542.00\n",
       "Name: valor_total_desconto, Length: 700, dtype: float64"
      ]
     },
     "execution_count": 13,
     "metadata": {},
     "output_type": "execute_result"
    }
   ],
   "source": [
    "df.valor_total_desconto"
   ]
  },
  {
   "cell_type": "code",
   "execution_count": 14,
   "metadata": {},
   "outputs": [
    {
     "data": {
      "text/plain": [
       "Governo              300\n",
       "Grandes empresas     100\n",
       "Médias empresas      100\n",
       "Pequenas empresas    100\n",
       "Vendas online        100\n",
       "Name: segmento, dtype: int64"
      ]
     },
     "execution_count": 14,
     "metadata": {},
     "output_type": "execute_result"
    }
   ],
   "source": [
    "df.segmento.value_counts()"
   ]
  },
  {
   "cell_type": "code",
   "execution_count": 15,
   "metadata": {},
   "outputs": [
    {
     "data": {
      "text/plain": [
       "Produto 3    202\n",
       "Produto 4    109\n",
       "Produto 5    109\n",
       "Produto 6     94\n",
       "Produto 1     93\n",
       "Produto 2     93\n",
       "Name: produto, dtype: int64"
      ]
     },
     "execution_count": 15,
     "metadata": {},
     "output_type": "execute_result"
    }
   ],
   "source": [
    "df.produto.value_counts()"
   ]
  },
  {
   "cell_type": "code",
   "execution_count": 16,
   "metadata": {},
   "outputs": [
    {
     "data": {
      "text/plain": [
       "Alemanha    140\n",
       "Canadá      140\n",
       "Chile       140\n",
       "EUA         140\n",
       "França      140\n",
       "Name: pais, dtype: int64"
      ]
     },
     "execution_count": 16,
     "metadata": {},
     "output_type": "execute_result"
    }
   ],
   "source": [
    "df.pais.value_counts()"
   ]
  },
  {
   "cell_type": "code",
   "execution_count": 17,
   "metadata": {},
   "outputs": [
    {
     "data": {
      "text/html": [
       "<div>\n",
       "<style scoped>\n",
       "    .dataframe tbody tr th:only-of-type {\n",
       "        vertical-align: middle;\n",
       "    }\n",
       "\n",
       "    .dataframe tbody tr th {\n",
       "        vertical-align: top;\n",
       "    }\n",
       "\n",
       "    .dataframe thead th {\n",
       "        text-align: right;\n",
       "    }\n",
       "</style>\n",
       "<table border=\"1\" class=\"dataframe\">\n",
       "  <thead>\n",
       "    <tr style=\"text-align: right;\">\n",
       "      <th></th>\n",
       "      <th>unidades_vendidas</th>\n",
       "      <th>preco_unitario</th>\n",
       "      <th>valor_total</th>\n",
       "      <th>desconto</th>\n",
       "      <th>valor_total_desconto</th>\n",
       "      <th>custo_total</th>\n",
       "      <th>lucro</th>\n",
       "      <th>ano</th>\n",
       "    </tr>\n",
       "  </thead>\n",
       "  <tbody>\n",
       "    <tr>\n",
       "      <th>count</th>\n",
       "      <td>700.00</td>\n",
       "      <td>700.00</td>\n",
       "      <td>700.00</td>\n",
       "      <td>700.00</td>\n",
       "      <td>700.00</td>\n",
       "      <td>700.00</td>\n",
       "      <td>700.00</td>\n",
       "      <td>700.00</td>\n",
       "    </tr>\n",
       "    <tr>\n",
       "      <th>mean</th>\n",
       "      <td>1608.29</td>\n",
       "      <td>118.43</td>\n",
       "      <td>182759.43</td>\n",
       "      <td>13150.35</td>\n",
       "      <td>169609.07</td>\n",
       "      <td>147187.85</td>\n",
       "      <td>22421.22</td>\n",
       "      <td>2018.75</td>\n",
       "    </tr>\n",
       "    <tr>\n",
       "      <th>std</th>\n",
       "      <td>867.43</td>\n",
       "      <td>136.78</td>\n",
       "      <td>254262.28</td>\n",
       "      <td>22962.93</td>\n",
       "      <td>236726.35</td>\n",
       "      <td>205930.04</td>\n",
       "      <td>42282.73</td>\n",
       "      <td>0.43</td>\n",
       "    </tr>\n",
       "    <tr>\n",
       "      <th>min</th>\n",
       "      <td>200.00</td>\n",
       "      <td>7.00</td>\n",
       "      <td>1799.00</td>\n",
       "      <td>0.00</td>\n",
       "      <td>1655.08</td>\n",
       "      <td>918.00</td>\n",
       "      <td>-71250.25</td>\n",
       "      <td>2018.00</td>\n",
       "    </tr>\n",
       "    <tr>\n",
       "      <th>25%</th>\n",
       "      <td>905.00</td>\n",
       "      <td>12.00</td>\n",
       "      <td>17391.75</td>\n",
       "      <td>800.32</td>\n",
       "      <td>15928.00</td>\n",
       "      <td>7538.00</td>\n",
       "      <td>2701.80</td>\n",
       "      <td>2018.75</td>\n",
       "    </tr>\n",
       "    <tr>\n",
       "      <th>50%</th>\n",
       "      <td>1542.50</td>\n",
       "      <td>20.00</td>\n",
       "      <td>37980.00</td>\n",
       "      <td>2585.25</td>\n",
       "      <td>35540.20</td>\n",
       "      <td>22580.00</td>\n",
       "      <td>8936.40</td>\n",
       "      <td>2019.00</td>\n",
       "    </tr>\n",
       "    <tr>\n",
       "      <th>75%</th>\n",
       "      <td>2229.12</td>\n",
       "      <td>300.00</td>\n",
       "      <td>279025.00</td>\n",
       "      <td>15956.34</td>\n",
       "      <td>261077.50</td>\n",
       "      <td>248422.50</td>\n",
       "      <td>21155.74</td>\n",
       "      <td>2019.00</td>\n",
       "    </tr>\n",
       "    <tr>\n",
       "      <th>max</th>\n",
       "      <td>4492.50</td>\n",
       "      <td>350.00</td>\n",
       "      <td>1207500.00</td>\n",
       "      <td>149677.50</td>\n",
       "      <td>1159200.00</td>\n",
       "      <td>950625.00</td>\n",
       "      <td>262200.00</td>\n",
       "      <td>2019.00</td>\n",
       "    </tr>\n",
       "  </tbody>\n",
       "</table>\n",
       "</div>"
      ],
      "text/plain": [
       "       unidades_vendidas  preco_unitario  valor_total   desconto  \\\n",
       "count             700.00          700.00       700.00     700.00   \n",
       "mean             1608.29          118.43    182759.43   13150.35   \n",
       "std               867.43          136.78    254262.28   22962.93   \n",
       "min               200.00            7.00      1799.00       0.00   \n",
       "25%               905.00           12.00     17391.75     800.32   \n",
       "50%              1542.50           20.00     37980.00    2585.25   \n",
       "75%              2229.12          300.00    279025.00   15956.34   \n",
       "max              4492.50          350.00   1207500.00  149677.50   \n",
       "\n",
       "       valor_total_desconto  custo_total      lucro      ano  \n",
       "count                700.00       700.00     700.00   700.00  \n",
       "mean              169609.07    147187.85   22421.22  2018.75  \n",
       "std               236726.35    205930.04   42282.73     0.43  \n",
       "min                 1655.08       918.00  -71250.25  2018.00  \n",
       "25%                15928.00      7538.00    2701.80  2018.75  \n",
       "50%                35540.20     22580.00    8936.40  2019.00  \n",
       "75%               261077.50    248422.50   21155.74  2019.00  \n",
       "max              1159200.00    950625.00  262200.00  2019.00  "
      ]
     },
     "execution_count": 17,
     "metadata": {},
     "output_type": "execute_result"
    }
   ],
   "source": [
    "df.describe().round(2)"
   ]
  },
  {
   "cell_type": "markdown",
   "metadata": {},
   "source": [
    "### Análise de margem de lucro"
   ]
  },
  {
   "cell_type": "markdown",
   "metadata": {},
   "source": [
    "#### Por segmento"
   ]
  },
  {
   "cell_type": "code",
   "execution_count": 18,
   "metadata": {},
   "outputs": [
    {
     "data": {
      "text/html": [
       "<div>\n",
       "<style scoped>\n",
       "    .dataframe tbody tr th:only-of-type {\n",
       "        vertical-align: middle;\n",
       "    }\n",
       "\n",
       "    .dataframe tbody tr th {\n",
       "        vertical-align: top;\n",
       "    }\n",
       "\n",
       "    .dataframe thead th {\n",
       "        text-align: right;\n",
       "    }\n",
       "</style>\n",
       "<table border=\"1\" class=\"dataframe\">\n",
       "  <thead>\n",
       "    <tr style=\"text-align: right;\">\n",
       "      <th></th>\n",
       "      <th>valor_total_desconto</th>\n",
       "      <th>custo_total</th>\n",
       "      <th>lucro</th>\n",
       "      <th>margem_lucro</th>\n",
       "    </tr>\n",
       "    <tr>\n",
       "      <th>segmento</th>\n",
       "      <th></th>\n",
       "      <th></th>\n",
       "      <th></th>\n",
       "      <th></th>\n",
       "    </tr>\n",
       "  </thead>\n",
       "  <tbody>\n",
       "    <tr>\n",
       "      <th>Governo</th>\n",
       "      <td>52504260.67</td>\n",
       "      <td>41584282.5</td>\n",
       "      <td>10919978.17</td>\n",
       "      <td>20.80</td>\n",
       "    </tr>\n",
       "    <tr>\n",
       "      <th>Grandes empresas</th>\n",
       "      <td>19611694.38</td>\n",
       "      <td>20568882.0</td>\n",
       "      <td>-957187.63</td>\n",
       "      <td>-4.88</td>\n",
       "    </tr>\n",
       "    <tr>\n",
       "      <th>Médias empresas</th>\n",
       "      <td>2381883.08</td>\n",
       "      <td>1746100.0</td>\n",
       "      <td>635783.07</td>\n",
       "      <td>26.69</td>\n",
       "    </tr>\n",
       "    <tr>\n",
       "      <th>Pequenas empresas</th>\n",
       "      <td>42427918.50</td>\n",
       "      <td>38641000.0</td>\n",
       "      <td>3786918.50</td>\n",
       "      <td>8.93</td>\n",
       "    </tr>\n",
       "    <tr>\n",
       "      <th>Vendas online</th>\n",
       "      <td>1800593.64</td>\n",
       "      <td>491233.8</td>\n",
       "      <td>1309359.84</td>\n",
       "      <td>72.72</td>\n",
       "    </tr>\n",
       "  </tbody>\n",
       "</table>\n",
       "</div>"
      ],
      "text/plain": [
       "                   valor_total_desconto  custo_total        lucro  \\\n",
       "segmento                                                            \n",
       "Governo                     52504260.67   41584282.5  10919978.17   \n",
       "Grandes empresas            19611694.38   20568882.0   -957187.63   \n",
       "Médias empresas              2381883.08    1746100.0    635783.07   \n",
       "Pequenas empresas           42427918.50   38641000.0   3786918.50   \n",
       "Vendas online                1800593.64     491233.8   1309359.84   \n",
       "\n",
       "                   margem_lucro  \n",
       "segmento                         \n",
       "Governo                   20.80  \n",
       "Grandes empresas          -4.88  \n",
       "Médias empresas           26.69  \n",
       "Pequenas empresas          8.93  \n",
       "Vendas online             72.72  "
      ]
     },
     "execution_count": 18,
     "metadata": {},
     "output_type": "execute_result"
    }
   ],
   "source": [
    "colunas = ['valor_total_desconto', 'custo_total', 'lucro']\n",
    "df_segmento =  df.groupby('segmento')[colunas].sum().round(2)\n",
    "df_segmento['margem_lucro'] = round((df_segmento['lucro'] / df_segmento['valor_total_desconto']) * 100,2)\n",
    "df_segmento"
   ]
  },
  {
   "cell_type": "code",
   "execution_count": 19,
   "metadata": {},
   "outputs": [
    {
     "data": {
      "image/png": "[encoded data removed]",
      "text/plain": [
       "<Figure size 1000x500 with 1 Axes>"
      ]
     },
     "metadata": {},
     "output_type": "display_data"
    }
   ],
   "source": [
    "sns.set_style('darkgrid')\n",
    "plt.figure(figsize=(10,5))\n",
    "sns.barplot(data=df_segmento, x=df_segmento.index, y='margem_lucro')\n",
    "plt.title(\"Margem de Lucro por Segmento\")\n",
    "plt.xlabel('Segmentos')\n",
    "plt.ylabel('% Lucro')\n",
    "plt.show()"
   ]
  },
  {
   "cell_type": "markdown",
   "metadata": {},
   "source": [
    "#### Por produto"
   ]
  },
  {
   "cell_type": "code",
   "execution_count": 21,
   "metadata": {},
   "outputs": [
    {
     "data": {
      "text/html": [
       "<div>\n",
       "<style scoped>\n",
       "    .dataframe tbody tr th:only-of-type {\n",
       "        vertical-align: middle;\n",
       "    }\n",
       "\n",
       "    .dataframe tbody tr th {\n",
       "        vertical-align: top;\n",
       "    }\n",
       "\n",
       "    .dataframe thead th {\n",
       "        text-align: right;\n",
       "    }\n",
       "</style>\n",
       "<table border=\"1\" class=\"dataframe\">\n",
       "  <thead>\n",
       "    <tr style=\"text-align: right;\">\n",
       "      <th></th>\n",
       "      <th>valor_total_desconto</th>\n",
       "      <th>custo_total</th>\n",
       "      <th>lucro</th>\n",
       "      <th>margem_lucro</th>\n",
       "    </tr>\n",
       "    <tr>\n",
       "      <th>produto</th>\n",
       "      <th></th>\n",
       "      <th></th>\n",
       "      <th></th>\n",
       "      <th></th>\n",
       "    </tr>\n",
       "  </thead>\n",
       "  <tbody>\n",
       "    <tr>\n",
       "      <th>Produto 1</th>\n",
       "      <td>13815307.88</td>\n",
       "      <td>13187353.3</td>\n",
       "      <td>627954.58</td>\n",
       "      <td>4.55</td>\n",
       "    </tr>\n",
       "    <tr>\n",
       "      <th>Produto 2</th>\n",
       "      <td>15390801.88</td>\n",
       "      <td>13276047.0</td>\n",
       "      <td>2114754.88</td>\n",
       "      <td>13.74</td>\n",
       "    </tr>\n",
       "    <tr>\n",
       "      <th>Produto 3</th>\n",
       "      <td>33011143.95</td>\n",
       "      <td>28213706.0</td>\n",
       "      <td>4797437.95</td>\n",
       "      <td>14.53</td>\n",
       "    </tr>\n",
       "    <tr>\n",
       "      <th>Produto 4</th>\n",
       "      <td>18250059.46</td>\n",
       "      <td>15944067.0</td>\n",
       "      <td>2305992.46</td>\n",
       "      <td>12.64</td>\n",
       "    </tr>\n",
       "    <tr>\n",
       "      <th>Produto 5</th>\n",
       "      <td>20511921.02</td>\n",
       "      <td>17477313.0</td>\n",
       "      <td>3034608.02</td>\n",
       "      <td>14.79</td>\n",
       "    </tr>\n",
       "    <tr>\n",
       "      <th>Produto 6</th>\n",
       "      <td>17747116.06</td>\n",
       "      <td>14933012.0</td>\n",
       "      <td>2814104.06</td>\n",
       "      <td>15.86</td>\n",
       "    </tr>\n",
       "  </tbody>\n",
       "</table>\n",
       "</div>"
      ],
      "text/plain": [
       "           valor_total_desconto  custo_total       lucro  margem_lucro\n",
       "produto                                                               \n",
       "Produto 1           13815307.88   13187353.3   627954.58          4.55\n",
       "Produto 2           15390801.88   13276047.0  2114754.88         13.74\n",
       "Produto 3           33011143.95   28213706.0  4797437.95         14.53\n",
       "Produto 4           18250059.46   15944067.0  2305992.46         12.64\n",
       "Produto 5           20511921.02   17477313.0  3034608.02         14.79\n",
       "Produto 6           17747116.06   14933012.0  2814104.06         15.86"
      ]
     },
     "execution_count": 21,
     "metadata": {},
     "output_type": "execute_result"
    }
   ],
   "source": [
    "colunas = ['valor_total_desconto', 'custo_total', 'lucro']\n",
    "df_produto =  df.groupby('produto')[colunas].sum().round(2)\n",
    "df_produto['margem_lucro'] = round((df_produto['lucro'] / df_produto['valor_total_desconto']) * 100,2)\n",
    "df_produto"
   ]
  },
  {
   "cell_type": "code",
   "execution_count": 22,
   "metadata": {},
   "outputs": [
    {
     "data": {
      "image/png": "[encoded data removed]",
      "text/plain": [
       "<Figure size 1000x500 with 1 Axes>"
      ]
     },
     "metadata": {},
     "output_type": "display_data"
    }
   ],
   "source": [
    "sns.set_style('darkgrid')\n",
    "plt.figure(figsize=(10,5))\n",
    "sns.barplot(data=df_produto, x=df_produto.index, y='margem_lucro')\n",
    "plt.title(\"Margem de Lucro por Produto\")\n",
    "plt.xlabel('Produtos')\n",
    "plt.ylabel('% Lucro')\n",
    "plt.show()"
   ]
  },
  {
   "cell_type": "markdown",
   "metadata": {},
   "source": [
    "#### Por país"
   ]
  },
  {
   "cell_type": "code",
   "execution_count": 23,
   "metadata": {},
   "outputs": [
    {
     "data": {
      "text/html": [
       "<div>\n",
       "<style scoped>\n",
       "    .dataframe tbody tr th:only-of-type {\n",
       "        vertical-align: middle;\n",
       "    }\n",
       "\n",
       "    .dataframe tbody tr th {\n",
       "        vertical-align: top;\n",
       "    }\n",
       "\n",
       "    .dataframe thead th {\n",
       "        text-align: right;\n",
       "    }\n",
       "</style>\n",
       "<table border=\"1\" class=\"dataframe\">\n",
       "  <thead>\n",
       "    <tr style=\"text-align: right;\">\n",
       "      <th></th>\n",
       "      <th>valor_total_desconto</th>\n",
       "      <th>custo_total</th>\n",
       "      <th>lucro</th>\n",
       "      <th>margem_lucro</th>\n",
       "    </tr>\n",
       "    <tr>\n",
       "      <th>pais</th>\n",
       "      <th></th>\n",
       "      <th></th>\n",
       "      <th></th>\n",
       "      <th></th>\n",
       "    </tr>\n",
       "  </thead>\n",
       "  <tbody>\n",
       "    <tr>\n",
       "      <th>Alemanha</th>\n",
       "      <td>23505340.82</td>\n",
       "      <td>20094218.6</td>\n",
       "      <td>3411122.22</td>\n",
       "      <td>14.51</td>\n",
       "    </tr>\n",
       "    <tr>\n",
       "      <th>Canadá</th>\n",
       "      <td>24887654.88</td>\n",
       "      <td>21575835.9</td>\n",
       "      <td>3311818.98</td>\n",
       "      <td>13.31</td>\n",
       "    </tr>\n",
       "    <tr>\n",
       "      <th>Chile</th>\n",
       "      <td>20949352.11</td>\n",
       "      <td>18290422.3</td>\n",
       "      <td>2658929.81</td>\n",
       "      <td>12.69</td>\n",
       "    </tr>\n",
       "    <tr>\n",
       "      <th>EUA</th>\n",
       "      <td>25029830.16</td>\n",
       "      <td>22194424.3</td>\n",
       "      <td>2835405.86</td>\n",
       "      <td>11.33</td>\n",
       "    </tr>\n",
       "    <tr>\n",
       "      <th>França</th>\n",
       "      <td>24354172.28</td>\n",
       "      <td>20876597.2</td>\n",
       "      <td>3477575.08</td>\n",
       "      <td>14.28</td>\n",
       "    </tr>\n",
       "  </tbody>\n",
       "</table>\n",
       "</div>"
      ],
      "text/plain": [
       "          valor_total_desconto  custo_total       lucro  margem_lucro\n",
       "pais                                                                 \n",
       "Alemanha           23505340.82   20094218.6  3411122.22         14.51\n",
       "Canadá             24887654.88   21575835.9  3311818.98         13.31\n",
       "Chile              20949352.11   18290422.3  2658929.81         12.69\n",
       "EUA                25029830.16   22194424.3  2835405.86         11.33\n",
       "França             24354172.28   20876597.2  3477575.08         14.28"
      ]
     },
     "execution_count": 23,
     "metadata": {},
     "output_type": "execute_result"
    }
   ],
   "source": [
    "colunas = ['valor_total_desconto', 'custo_total', 'lucro']\n",
    "df_pais =  df.groupby('pais')[colunas].sum().round(2)\n",
    "df_pais['margem_lucro'] = round((df_pais['lucro'] / df_pais['valor_total_desconto']) * 100,2)\n",
    "df_pais"
   ]
  },
  {
   "cell_type": "code",
   "execution_count": 24,
   "metadata": {},
   "outputs": [
    {
     "data": {
      "image/png": "[encoded data removed]",
      "text/plain": [
       "<Figure size 1000x500 with 1 Axes>"
      ]
     },
     "metadata": {},
     "output_type": "display_data"
    }
   ],
   "source": [
    "sns.set_style('darkgrid')\n",
    "plt.figure(figsize=(10,5))\n",
    "sns.barplot(data=df_pais, x=df_pais.index, y='margem_lucro')\n",
    "plt.title(\"Margem de Lucro por País\")\n",
    "plt.xlabel('País')\n",
    "plt.ylabel(\"% Lucro\")\n",
    "plt.show()"
   ]
  }
 ],
 "metadata": {
  "kernelspec": {
   "display_name": "base",
   "language": "python",
   "name": "python3"
  },
  "language_info": {
   "codemirror_mode": {
    "name": "ipython",
    "version": 3
   },
   "file_extension": ".py",
   "mimetype": "text/x-python",
   "name": "python",
   "nbconvert_exporter": "python",
   "pygments_lexer": "ipython3",
   "version": "3.10.9"
  }
 },
 "nbformat": 4,
 "nbformat_minor": 2
}
